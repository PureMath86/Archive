{
 "cells": [
  {
   "cell_type": "code",
   "execution_count": 44,
   "metadata": {
    "collapsed": true
   },
   "outputs": [],
   "source": [
    "# warning: pdfminer uses python 2\n",
    "from __future__ import division"
   ]
  },
  {
   "cell_type": "code",
   "execution_count": 45,
   "metadata": {
    "collapsed": false
   },
   "outputs": [],
   "source": [
    "from pdfminer.pdfparser import PDFParser\n",
    "from pdfminer.pdfdocument import PDFDocument\n",
    "from pdfminer.pdfpage import PDFPage\n",
    "from pdfminer.pdfpage import PDFTextExtractionNotAllowed\n",
    "from pdfminer.pdfinterp import PDFResourceManager\n",
    "from pdfminer.pdfinterp import PDFPageInterpreter\n",
    "from pdfminer.layout import LAParams\n",
    "from pdfminer.converter import PDFPageAggregator"
   ]
  },
  {
   "cell_type": "code",
   "execution_count": 46,
   "metadata": {
    "collapsed": false
   },
   "outputs": [],
   "source": [
    "def extract_layout_by_page(pdf_path):\n",
    "    \n",
    "#     Extracts LTPage objects from a pdf file.\n",
    "    \n",
    "#     slightly modified from\n",
    "#     https://euske.github.io/pdfminer/programming.html\n",
    "    \n",
    "    laparams = LAParams()\n",
    "\n",
    "    fp = open(pdf_path, 'rb')\n",
    "    parser = PDFParser(fp)\n",
    "    document = PDFDocument(parser)\n",
    "\n",
    "    if not document.is_extractable:\n",
    "        raise PDFTextExtractionNotAllowed\n",
    "\n",
    "    rsrcmgr = PDFResourceManager()\n",
    "    device = PDFPageAggregator(rsrcmgr, laparams=laparams)\n",
    "    interpreter = PDFPageInterpreter(rsrcmgr, device)\n",
    "\n",
    "    layouts = []\n",
    "    for page in PDFPage.create_pages(document):\n",
    "        interpreter.process_page(page)\n",
    "        layouts.append(device.get_result())\n",
    "\n",
    "    return layouts\n",
    "\n",
    "example_file = \"/Users/bryanarnold/Desktop/test.pdf\"\n",
    "page_layouts = extract_layout_by_page(example_file)"
   ]
  },
  {
   "cell_type": "code",
   "execution_count": 47,
   "metadata": {
    "collapsed": false
   },
   "outputs": [
    {
     "data": {
      "text/plain": [
       "106"
      ]
     },
     "execution_count": 47,
     "metadata": {},
     "output_type": "execute_result"
    }
   ],
   "source": [
    "len(page_layouts)"
   ]
  },
  {
   "cell_type": "code",
   "execution_count": 48,
   "metadata": {
    "collapsed": false
   },
   "outputs": [
    {
     "data": {
      "text/plain": [
       "{pdfminer.layout.LTTextBoxHorizontal}"
      ]
     },
     "execution_count": 48,
     "metadata": {},
     "output_type": "execute_result"
    }
   ],
   "source": [
    "objects_on_page = set(type(o) for o in page_layouts[3])\n",
    "objects_on_page"
   ]
  },
  {
   "cell_type": "code",
   "execution_count": 49,
   "metadata": {
    "collapsed": true
   },
   "outputs": [],
   "source": [
    "import pdfminer\n",
    "\n",
    "TEXT_ELEMENTS = [\n",
    "    pdfminer.layout.LTTextBox,\n",
    "    pdfminer.layout.LTTextBoxHorizontal,\n",
    "    pdfminer.layout.LTTextLine,\n",
    "    pdfminer.layout.LTTextLineHorizontal\n",
    "]"
   ]
  },
  {
   "cell_type": "code",
   "execution_count": 50,
   "metadata": {
    "collapsed": true
   },
   "outputs": [],
   "source": [
    "def flatten(lst):\n",
    "    \"\"\"Flattens a list of lists\"\"\"\n",
    "    return [subelem for elem in lst for subelem in elem]"
   ]
  },
  {
   "cell_type": "code",
   "execution_count": 51,
   "metadata": {
    "collapsed": true
   },
   "outputs": [],
   "source": [
    "def extract_characters(element):\n",
    "    \n",
    "#     Recursively extracts individual characters from \n",
    "#     text elements. \n",
    "    \n",
    "    if isinstance(element, pdfminer.layout.LTChar):\n",
    "        return [element]\n",
    "\n",
    "    if any(isinstance(element, i) for i in TEXT_ELEMENTS):\n",
    "        return flatten([extract_characters(e) for e in element])\n",
    "\n",
    "    if isinstance(element, list):\n",
    "        return flatten([extract_characters(l) for l in element])\n",
    "\n",
    "    return []"
   ]
  },
  {
   "cell_type": "code",
   "execution_count": 52,
   "metadata": {
    "collapsed": true
   },
   "outputs": [],
   "source": [
    "current_page = page_layouts[47]\n",
    "\n",
    "texts = []\n",
    "rects = []\n",
    "\n",
    "# seperate text and rectangle elements\n",
    "for e in current_page:\n",
    "    if isinstance(e, pdfminer.layout.LTTextBoxHorizontal):\n",
    "        texts.append(e)\n",
    "    elif isinstance(e, pdfminer.layout.LTRect):\n",
    "        rects.append(e)\n",
    "\n",
    "# sort them into \n",
    "characters = extract_characters(texts)"
   ]
  },
  {
   "cell_type": "code",
   "execution_count": 53,
   "metadata": {
    "collapsed": true
   },
   "outputs": [],
   "source": [
    "import matplotlib.pyplot as plt\n",
    "from matplotlib import patches\n",
    "%matplotlib inline"
   ]
  },
  {
   "cell_type": "code",
   "execution_count": 54,
   "metadata": {
    "collapsed": false
   },
   "outputs": [],
   "source": [
    "def draw_rect_bbox(x0, y0, x1, y1, ax, color):\n",
    "    \n",
    "#     Draws an unfilled rectable onto ax.\n",
    "    \n",
    "    ax.add_patch(patches.Rectangle((x0, y0),\n",
    "                                   x1 - x0,\n",
    "                                   y1 - y0,\n",
    "                                   fill=False,\n",
    "                                   color=color))"
   ]
  },
  {
   "cell_type": "code",
   "execution_count": 55,
   "metadata": {
    "collapsed": true
   },
   "outputs": [],
   "source": [
    "def draw_rect(x0, y0, x1, y1, ax, color=\"black\"):\n",
    "    draw_rect_bbox(x0, y0, x1, y1, ax, color)"
   ]
  },
  {
   "cell_type": "code",
   "execution_count": 66,
   "metadata": {
    "collapsed": false
   },
   "outputs": [
    {
     "ename": "TypeError",
     "evalue": "draw_rect() missing 2 required positional arguments: 'y1' and 'ax'",
     "output_type": "error",
     "traceback": [
      "\u001b[0;31m---------------------------------------------------------------------------\u001b[0m",
      "\u001b[0;31mTypeError\u001b[0m                                 Traceback (most recent call last)",
      "\u001b[0;32m<ipython-input-66-c2926e49efea>\u001b[0m in \u001b[0;36m<module>\u001b[0;34m()\u001b[0m\n\u001b[1;32m      8\u001b[0m \u001b[0;34m\u001b[0m\u001b[0m\n\u001b[1;32m      9\u001b[0m \u001b[0;32mfor\u001b[0m \u001b[0mc\u001b[0m \u001b[0;32min\u001b[0m \u001b[0mcharacters\u001b[0m\u001b[0;34m:\u001b[0m\u001b[0;34m\u001b[0m\u001b[0m\n\u001b[0;32m---> 10\u001b[0;31m     \u001b[0mdraw_rect\u001b[0m\u001b[0;34m(\u001b[0m\u001b[0mc\u001b[0m\u001b[0;34m,\u001b[0m \u001b[0max\u001b[0m\u001b[0;34m,\u001b[0m \u001b[0;34m\"red\"\u001b[0m\u001b[0;34m)\u001b[0m\u001b[0;34m\u001b[0m\u001b[0m\n\u001b[0m\u001b[1;32m     11\u001b[0m \u001b[0;34m\u001b[0m\u001b[0m\n\u001b[1;32m     12\u001b[0m \u001b[0;34m\u001b[0m\u001b[0m\n",
      "\u001b[0;31mTypeError\u001b[0m: draw_rect() missing 2 required positional arguments: 'y1' and 'ax'"
     ]
    },
    {
     "data": {
      "image/png": "[encoded data removed]",
      "text/plain": [
       "<matplotlib.figure.Figure at 0x104c258d0>"
      ]
     },
     "metadata": {},
     "output_type": "display_data"
    }
   ],
   "source": [
    "xmin, ymin, xmax, ymax = current_page.bbox\n",
    "size = 6\n",
    "\n",
    "fig, ax = plt.subplots(figsize = (size, size * (ymax/xmax)))\n",
    "\n",
    "for rect in rects:\n",
    "    draw_rect(rect, ax)\n",
    "    \n",
    "for c in characters:\n",
    "    draw_rect(c, ax, \"red\")\n",
    "    \n",
    "\n",
    "plt.xlim(xmin, xmax)\n",
    "plt.ylim(ymin, ymax)\n",
    "plt.show()"
   ]
  },
  {
   "cell_type": "code",
   "execution_count": 67,
   "metadata": {
    "collapsed": true
   },
   "outputs": [],
   "source": [
    "def width(rect):\n",
    "    x0, y0, x1, y1 = rect.bbox\n",
    "    return min(x1 - x0, y1 - y0)\n",
    "\n",
    "def area(rect):\n",
    "    x0, y0, x1, y1 = rect.bbox\n",
    "    return (x1 - x0) * (y1 - y0)\n",
    "\n",
    "\n",
    "def cast_as_line(rect):\n",
    "    \"\"\"\n",
    "    Replaces a retangle with a line based on its longest dimension.\n",
    "    \"\"\"\n",
    "    x0, y0, x1, y1 = rect.bbox\n",
    "\n",
    "    if x1 - x0 > y1 - y0:\n",
    "        return (x0, y0, x1, y0, \"H\")\n",
    "    else:\n",
    "        return (x0, y0, x0, y1, \"V\")\n",
    "    \n",
    "lines = [cast_as_line(r) for r in rects\n",
    "         if width(r) < 2 and\n",
    "         area(r) > 1]"
   ]
  },
  {
   "cell_type": "code",
   "execution_count": 68,
   "metadata": {
    "collapsed": false
   },
   "outputs": [
    {
     "ename": "TypeError",
     "evalue": "draw_rect() missing 2 required positional arguments: 'y1' and 'ax'",
     "output_type": "error",
     "traceback": [
      "\u001b[0;31m---------------------------------------------------------------------------\u001b[0m",
      "\u001b[0;31mTypeError\u001b[0m                                 Traceback (most recent call last)",
      "\u001b[0;32m<ipython-input-68-453dee3bd797>\u001b[0m in \u001b[0;36m<module>\u001b[0;34m()\u001b[0m\n\u001b[1;32m      9\u001b[0m \u001b[0;34m\u001b[0m\u001b[0m\n\u001b[1;32m     10\u001b[0m \u001b[0;32mfor\u001b[0m \u001b[0mc\u001b[0m \u001b[0;32min\u001b[0m \u001b[0mcharacters\u001b[0m\u001b[0;34m:\u001b[0m\u001b[0;34m\u001b[0m\u001b[0m\n\u001b[0;32m---> 11\u001b[0;31m     \u001b[0mdraw_rect\u001b[0m\u001b[0;34m(\u001b[0m\u001b[0mc\u001b[0m\u001b[0;34m,\u001b[0m \u001b[0max\u001b[0m\u001b[0;34m,\u001b[0m \u001b[0;34m\"red\"\u001b[0m\u001b[0;34m)\u001b[0m\u001b[0;34m\u001b[0m\u001b[0m\n\u001b[0m\u001b[1;32m     12\u001b[0m \u001b[0;34m\u001b[0m\u001b[0m\n\u001b[1;32m     13\u001b[0m \u001b[0mplt\u001b[0m\u001b[0;34m.\u001b[0m\u001b[0mxlim\u001b[0m\u001b[0;34m(\u001b[0m\u001b[0mxmin\u001b[0m\u001b[0;34m,\u001b[0m \u001b[0mxmax\u001b[0m\u001b[0;34m)\u001b[0m\u001b[0;34m\u001b[0m\u001b[0m\n",
      "\u001b[0;31mTypeError\u001b[0m: draw_rect() missing 2 required positional arguments: 'y1' and 'ax'"
     ]
    },
    {
     "data": {
      "image/png": "[encoded data removed]",
      "text/plain": [
       "<matplotlib.figure.Figure at 0x103bdd3c8>"
      ]
     },
     "metadata": {},
     "output_type": "display_data"
    }
   ],
   "source": [
    "xmin, ymin, xmax, ymax = current_page.bbox\n",
    "size = 6\n",
    "\n",
    "fig, ax = plt.subplots(figsize = (size, size * (ymax/xmax)))\n",
    "\n",
    "for l in lines:\n",
    "    x0,y0,x1,y1,_ = l\n",
    "    plt.plot([x0, x1], [y0, y1], 'k-')\n",
    "    \n",
    "for c in characters:\n",
    "    draw_rect(c, ax, \"red\")\n",
    "\n",
    "plt.xlim(xmin, xmax)\n",
    "plt.ylim(ymin, ymax)\n",
    "plt.show()"
   ]
  },
  {
   "cell_type": "code",
   "execution_count": 71,
   "metadata": {
    "collapsed": false
   },
   "outputs": [],
   "source": [
    "def does_it_intersect(x, xmin, xmax):\n",
    "    return (x <= xmax and x >= xmin)\n",
    "\n",
    "def find_bounding_rectangle(x, y, lines):\n",
    "    \"\"\"\n",
    "    Given a collection of lines, and a point, try to find the rectangle \n",
    "    made from the lines that bounds the point. If the point is not \n",
    "    bounded, return None.\n",
    "    \"\"\"\n",
    "    \n",
    "    v_intersects = [l for l in lines\n",
    "                    if l[4] == \"V\"\n",
    "                    and does_it_intersect(y, (l[1], l[3]))]\n",
    "\n",
    "    h_intersects = [l for l in lines\n",
    "                    if l[4] == \"H\"\n",
    "                    and does_it_intersect(x, (l[0], l[2]))]\n",
    "\n",
    "    if len(v_intersects) < 2 or len(h_intersects) < 2:\n",
    "        return None\n",
    "\n",
    "    v_left = [v[0] for v in v_intersects\n",
    "              if v[0] < x]\n",
    "\n",
    "    v_right = [v[0] for v in v_intersects\n",
    "               if v[0] > x]\n",
    "\n",
    "    if len(v_left) == 0 or len(v_right) == 0:\n",
    "        return None\n",
    "\n",
    "    x0, x1 = max(v_left), min(v_right)\n",
    "\n",
    "    h_down = [h[1] for h in h_intersects\n",
    "              if h[1] < y]\n",
    "\n",
    "    h_up = [h[1] for h in h_intersects\n",
    "            if h[1] > y]\n",
    "\n",
    "    if len(h_down) == 0 or len(h_up) == 0:\n",
    "        return None\n",
    "\n",
    "    y0, y1 = max(h_down), min(h_up)\n",
    "\n",
    "    return (x0, y0, x1, y1)"
   ]
  },
  {
   "cell_type": "code",
   "execution_count": 74,
   "metadata": {
    "collapsed": false
   },
   "outputs": [],
   "source": [
    "from collections import defaultdict\n",
    "import math\n",
    "\n",
    "box_char_dict = {}\n",
    "\n",
    "for c in characters:\n",
    "    # choose the bounding box that occurs the majority of times for each of these:\n",
    "    bboxes = defaultdict(int)\n",
    "    l_x, l_y = c.bbox[0], c.bbox[1]\n",
    "    bbox_l = find_bounding_rectangle(l_x, l_y, lines)\n",
    "    bboxes[bbox_l] += 1\n",
    "\n",
    "    c_x, c_y = math.floor((c.bbox[0] + c.bbox[2]) / 2), math.floor((c.bbox[1] + c.bbox[3]) / 2)\n",
    "    bbox_c = find_bounding_rectangle(c_x, c_y, lines)\n",
    "    bboxes[bbox_c] += 1\n",
    "\n",
    "    u_x, u_y = c.bbox[2], c.bbox[3]\n",
    "    bbox_u = find_bounding_rectangle(u_x, u_y, lines)\n",
    "    bboxes[bbox_u] += 1\n",
    "\n",
    "    # if all values are in different boxes, default to character center.\n",
    "    # otherwise choose the majority.\n",
    "    if max(bboxes.values()) == 1:\n",
    "        bbox = bbox_c\n",
    "    else:\n",
    "        bbox = max(bboxes.items(), key=lambda x: x[1])[0]\n",
    "\n",
    "    if bbox is None:\n",
    "        continue\n",
    "\n",
    "    if bbox in box_char_dict.keys():\n",
    "        box_char_dict[bbox].append(c)\n",
    "        continue\n",
    "\n",
    "    box_char_dict[bbox] = [c]"
   ]
  },
  {
   "cell_type": "code",
   "execution_count": 75,
   "metadata": {
    "collapsed": false
   },
   "outputs": [
    {
     "ename": "TypeError",
     "evalue": "draw_rect() missing 2 required positional arguments: 'y1' and 'ax'",
     "output_type": "error",
     "traceback": [
      "\u001b[0;31m---------------------------------------------------------------------------\u001b[0m",
      "\u001b[0;31mTypeError\u001b[0m                                 Traceback (most recent call last)",
      "\u001b[0;32m<ipython-input-75-589012746756>\u001b[0m in \u001b[0;36m<module>\u001b[0;34m()\u001b[0m\n\u001b[1;32m     10\u001b[0m \u001b[0;34m\u001b[0m\u001b[0m\n\u001b[1;32m     11\u001b[0m \u001b[0;32mfor\u001b[0m \u001b[0mc\u001b[0m \u001b[0;32min\u001b[0m \u001b[0mcharacters\u001b[0m\u001b[0;34m:\u001b[0m\u001b[0;34m\u001b[0m\u001b[0m\n\u001b[0;32m---> 12\u001b[0;31m     \u001b[0mdraw_rect\u001b[0m\u001b[0;34m(\u001b[0m\u001b[0mc\u001b[0m\u001b[0;34m,\u001b[0m \u001b[0max\u001b[0m\u001b[0;34m,\u001b[0m \u001b[0;34m\"red\"\u001b[0m\u001b[0;34m)\u001b[0m\u001b[0;34m\u001b[0m\u001b[0m\n\u001b[0m\u001b[1;32m     13\u001b[0m \u001b[0;34m\u001b[0m\u001b[0m\n\u001b[1;32m     14\u001b[0m \u001b[0;31m# plot the characters of a random cell as green\u001b[0m\u001b[0;34m\u001b[0m\u001b[0;34m\u001b[0m\u001b[0m\n",
      "\u001b[0;31mTypeError\u001b[0m: draw_rect() missing 2 required positional arguments: 'y1' and 'ax'"
     ]
    },
    {
     "data": {
      "image/png": "[encoded data removed]",
      "text/plain": [
       "<matplotlib.figure.Figure at 0x10495d630>"
      ]
     },
     "metadata": {},
     "output_type": "display_data"
    }
   ],
   "source": [
    "import random\n",
    "xmin, ymin, xmax, ymax = current_page.bbox\n",
    "size = 6\n",
    "\n",
    "fig, ax = plt.subplots(figsize = (size, size * (ymax/xmax)))\n",
    "\n",
    "for l in lines:\n",
    "    x0,y0,x1,y1,_ = l\n",
    "    plt.plot([x0, x1], [y0, y1], 'k-')\n",
    "    \n",
    "for c in characters:\n",
    "    draw_rect(c, ax, \"red\")\n",
    "    \n",
    "# plot the characters of a random cell as green\n",
    "for c in random.choice(box_char_dict.values()): \n",
    "    draw_rect(c, ax, \"green\")\n",
    "\n",
    "plt.xlim(xmin, xmax)\n",
    "plt.ylim(ymin, ymax)\n",
    "plt.show()"
   ]
  },
  {
   "cell_type": "code",
   "execution_count": 77,
   "metadata": {
    "collapsed": false
   },
   "outputs": [],
   "source": [
    "xmin, ymin, xmax, ymax = current_page.bbox\n",
    "\n",
    "for x in range(int(xmin), int(xmax), 10):\n",
    "    for y in range(int(ymin), int(ymax), 10):\n",
    "        bbox = find_bounding_rectangle(x, y, lines)\n",
    "\n",
    "        if bbox is None:\n",
    "            continue\n",
    "\n",
    "        if bbox in box_char_dict.keys():\n",
    "            continue\n",
    "\n",
    "        box_char_dict[bbox] = []"
   ]
  },
  {
   "cell_type": "code",
   "execution_count": 78,
   "metadata": {
    "collapsed": true
   },
   "outputs": [],
   "source": [
    "def chars_to_string(chars):\n",
    "    \"\"\"\n",
    "    Converts a collection of characters into a string, by ordering them left to right, \n",
    "    then top to bottom.\n",
    "    \"\"\"\n",
    "    if not chars:\n",
    "        return \"\"\n",
    "    rows = sorted(list(set(c.bbox[1] for c in chars)), reverse=True)\n",
    "    text = \"\"\n",
    "    for row in rows:\n",
    "        sorted_row = sorted([c for c in chars if c.bbox[1] == row], key=lambda c: c.bbox[0])\n",
    "        text += \"\".join(c.get_text() for c in sorted_row)\n",
    "    return text\n",
    "\n",
    "\n",
    "def boxes_to_table(box_record_dict):\n",
    "    \"\"\"\n",
    "    Converts a dictionary of cell:characters mapping into a python list\n",
    "    of lists of strings. Tries to split cells into rows, then for each row \n",
    "    breaks it down into columns.\n",
    "    \"\"\"\n",
    "    boxes = box_record_dict.keys()\n",
    "    rows = sorted(list(set(b[1] for b in boxes)), reverse=True)\n",
    "    table = []\n",
    "    for row in rows:\n",
    "        sorted_row = sorted([b for b in boxes if b[1] == row], key=lambda b: b[0])\n",
    "        table.append([chars_to_string(box_record_dict[b]) for b in sorted_row])\n",
    "    return table"
   ]
  },
  {
   "cell_type": "code",
   "execution_count": 79,
   "metadata": {
    "collapsed": false
   },
   "outputs": [
    {
     "data": {
      "text/plain": [
       "[]"
      ]
     },
     "execution_count": 79,
     "metadata": {},
     "output_type": "execute_result"
    }
   ],
   "source": [
    "boxes_to_table(box_char_dict)"
   ]
  },
  {
   "cell_type": "code",
   "execution_count": null,
   "metadata": {
    "collapsed": true
   },
   "outputs": [],
   "source": []
  }
 ],
 "metadata": {
  "kernelspec": {
   "display_name": "Python 3",
   "language": "python",
   "name": "python3"
  },
  "language_info": {
   "codemirror_mode": {
    "name": "ipython",
    "version": 3
   },
   "file_extension": ".py",
   "mimetype": "text/x-python",
   "name": "python",
   "nbconvert_exporter": "python",
   "pygments_lexer": "ipython3",
   "version": "3.6.0"
  }
 },
 "nbformat": 4,
 "nbformat_minor": 2
}
